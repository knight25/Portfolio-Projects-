{
 "cells": [
  {
   "cell_type": "markdown",
   "id": "7b2d91ec",
   "metadata": {},
   "source": [
    "# BMI CALCULATOR"
   ]
  },
  {
   "cell_type": "code",
   "execution_count": 22,
   "id": "eeed58f7",
   "metadata": {},
   "outputs": [
    {
     "name": "stdout",
     "output_type": "stream",
     "text": [
      "Enter your Name: tolu\n",
      "Enter your weight in pounds: 300\n",
      "Enter your height in inches: 60\n",
      "58.583333333333336\n",
      "tolu, you are Morbidly Obese. You need weight loss surgery.\n"
     ]
    }
   ],
   "source": [
    "name = input(\"Enter your Name: \")\n",
    "weight = int(input(\"Enter your weight in pounds: \"))\n",
    "height = int(input(\"Enter your height in inches: \"))\n",
    "\n",
    "BMI = (weight * 703) / (height * height)\n",
    "print (BMI)\n",
    "\n",
    "if BMI > 0 :\n",
    "    if(BMI<18.5):\n",
    "        print(name +', You are Under-weight. You need to Eat.')\n",
    "    elif (BMI<=24.9):\n",
    "        print(name +', You are Normal-weight. Maintain a balanced diet.')\n",
    "    elif (BMI<29.9):\n",
    "        print(name +', You are Over-weight. You need to excercise.')\n",
    "    elif (BMI<34.9):\n",
    "        print(name +', You are Obese. You need to to excercise.')\n",
    "    elif (BMI<39.9):\n",
    "        print(name +', You are severely Obese. You need weight loss surgery.') \n",
    "    elif (BMI>40):\n",
    "        print(name +', you are Morbidly Obese. You need weight loss surgery.')\n",
    "else:\n",
    "    print(\"Enter Valid inputs\")"
   ]
  },
  {
   "cell_type": "code",
   "execution_count": 3,
   "id": "7e682d69",
   "metadata": {},
   "outputs": [
    {
     "name": "stdout",
     "output_type": "stream",
     "text": [
      "170\n"
     ]
    }
   ],
   "source": [
    "print (weight)"
   ]
  },
  {
   "cell_type": "markdown",
   "id": "6c24d2de",
   "metadata": {},
   "source": [
    "TABLE OF BMI (Body Mass Index)\n",
    "\n",
    "BMI           CLASSIFICATION     HEALTH RISK\n",
    "under 18.5    Underweight        Minimal\n",
    "18.5 - 24.9   Normal Weight      Minimal\n",
    "25 - 29.9     Overweight         Increased \n",
    "30 - 34.9     Obese              High\n",
    "35 -39.9      Severely Obese     Very High\n",
    "40 and over   Morbidly Obese     Extremely High\n"
   ]
  },
  {
   "cell_type": "code",
   "execution_count": 16,
   "id": "6303e085",
   "metadata": {},
   "outputs": [
    {
     "name": "stdout",
     "output_type": "stream",
     "text": [
      "Opeyemi Tolulope, you are Morbidly Obese\n"
     ]
    }
   ],
   "source": [
    "if BMI > 0 :\n",
    "    if(BMI<18.5):\n",
    "        print(name +', You are Under-weight')\n",
    "    elif (BMI<=24.9):\n",
    "        print(name +', You are Normal-weight')\n",
    "    elif (BMI<29.9):\n",
    "        print(name +', You are Over-weight')\n",
    "    elif (BMI<34.9):\n",
    "        print(name +', You are Obese')\n",
    "    elif (BMI<39.9):\n",
    "        print(name +', You are severely Obese') \n",
    "    elif (BMI>40):\n",
    "        print(name +', you are Morbidly Obese')\n",
    "else:\n",
    "    print(\"Enter Valid inputs\")"
   ]
  },
  {
   "cell_type": "code",
   "execution_count": 12,
   "id": "ff37feb5",
   "metadata": {},
   "outputs": [
    {
     "name": "stdout",
     "output_type": "stream",
     "text": [
      "25.101869355177485\n"
     ]
    }
   ],
   "source": [
    "print(BMI)"
   ]
  },
  {
   "cell_type": "code",
   "execution_count": null,
   "id": "b64a1f2a",
   "metadata": {},
   "outputs": [],
   "source": []
  }
 ],
 "metadata": {
  "kernelspec": {
   "display_name": "Python 3 (ipykernel)",
   "language": "python",
   "name": "python3"
  },
  "language_info": {
   "codemirror_mode": {
    "name": "ipython",
    "version": 3
   },
   "file_extension": ".py",
   "mimetype": "text/x-python",
   "name": "python",
   "nbconvert_exporter": "python",
   "pygments_lexer": "ipython3",
   "version": "3.9.13"
  }
 },
 "nbformat": 4,
 "nbformat_minor": 5
}
